{
  "nbformat": 4,
  "nbformat_minor": 0,
  "metadata": {
    "colab": {
      "name": "Basics.ipynb",
      "provenance": [],
      "authorship_tag": "ABX9TyPYRvkc3Uu4XSvLMZXMHoIb",
      "include_colab_link": true
    },
    "kernelspec": {
      "name": "python3",
      "display_name": "Python 3"
    },
    "language_info": {
      "name": "python"
    }
  },
  "cells": [
    {
      "cell_type": "markdown",
      "metadata": {
        "id": "view-in-github",
        "colab_type": "text"
      },
      "source": [
        "<a href=\"https://colab.research.google.com/github/iqrasarwar/ASP.NET/blob/main/Basics.ipynb\" target=\"_parent\"><img src=\"https://colab.research.google.com/assets/colab-badge.svg\" alt=\"Open In Colab\"/></a>"
      ]
    },
    {
      "cell_type": "code",
      "execution_count": 1,
      "metadata": {
        "colab": {
          "base_uri": "https://localhost:8080/"
        },
        "id": "oL_986mx1rCJ",
        "outputId": "f135ea15-7bbb-453d-de64-4d0d10d70519"
      },
      "outputs": [
        {
          "output_type": "stream",
          "name": "stdout",
          "text": [
            "what's your nameiqra sarwar\n",
            "hello  iqra sarwar\n"
          ]
        }
      ],
      "source": [
        "name = input(\"what's your name\")\n",
        "print(\"hello \" , name)"
      ]
    },
    {
      "cell_type": "code",
      "source": [
        "#strongly typed language => means all variables are bound to some specific data types\n",
        "a = 1\n",
        "print(a) \n",
        "print(type(a))\n",
        "a = 1.1\n",
        "print(a) \n",
        "print(type(a))\n",
        "a = '1'\n",
        "print(a) \n",
        "print(type(a))\n",
        "a = \"1\"\n",
        "print(a) \n",
        "print(type(a))"
      ],
      "metadata": {
        "colab": {
          "base_uri": "https://localhost:8080/"
        },
        "id": "-YWawFZk41BD",
        "outputId": "e3df4ae7-ab6e-4866-935e-8f934ffa2a30"
      },
      "execution_count": 5,
      "outputs": [
        {
          "output_type": "stream",
          "name": "stdout",
          "text": [
            "1\n",
            "<class 'int'>\n",
            "1.1\n",
            "<class 'float'>\n",
            "1\n",
            "<class 'str'>\n",
            "1\n",
            "<class 'str'>\n"
          ]
        }
      ]
    },
    {
      "cell_type": "code",
      "source": [
        "value=10+10"
      ],
      "metadata": {
        "id": "8Vdrd8mq5Yzt"
      },
      "execution_count": 6,
      "outputs": []
    },
    {
      "cell_type": "code",
      "source": [
        "# value=\"10\"+10 //ERROR can only concatenate str (not \"int\") to str"
      ],
      "metadata": {
        "id": "r3rGTxIP6Wmb"
      },
      "execution_count": 8,
      "outputs": []
    },
    {
      "cell_type": "code",
      "source": [
        "number = input(\"Please enter any number between 1 and 10: \")\n",
        "# value = 10 + number ERROR number is string input and 10 is int can't conactenate them\n",
        "value = 10+int(number)\n",
        "print(value)"
      ],
      "metadata": {
        "colab": {
          "base_uri": "https://localhost:8080/"
        },
        "id": "NYJXtL7-6Y8C",
        "outputId": "f3606398-d023-4561-a4e1-4c958397bfd2"
      },
      "execution_count": 9,
      "outputs": [
        {
          "output_type": "stream",
          "name": "stdout",
          "text": [
            "Please enter any number between 1 and 10: 34\n",
            "44\n"
          ]
        }
      ]
    },
    {
      "cell_type": "code",
      "source": [
        "#STRINGS\n",
        "str = \"iqra sarwar\"\n",
        "print(len(str))\n",
        "str = str +\"m012\"\n",
        "print(str)\n",
        "str = str*5\n",
        "print(str)\n",
        "print(str[0])\n",
        "print(str[:-1])\n",
        "print(str[0:])\n",
        "print(str[:3])"
      ],
      "metadata": {
        "colab": {
          "base_uri": "https://localhost:8080/"
        },
        "id": "VpoMKgpC663K",
        "outputId": "119ee696-b327-4f80-c42b-93052b69d425"
      },
      "execution_count": 12,
      "outputs": [
        {
          "output_type": "stream",
          "name": "stdout",
          "text": [
            "11\n",
            "iqra sarwarm012\n",
            "iqra sarwarm012iqra sarwarm012iqra sarwarm012iqra sarwarm012iqra sarwarm012\n",
            "i\n",
            "iqra sarwarm012iqra sarwarm012iqra sarwarm012iqra sarwarm012iqra sarwarm01\n",
            "iqra sarwarm012iqra sarwarm012iqra sarwarm012iqra sarwarm012iqra sarwarm012\n",
            "iqr\n"
          ]
        }
      ]
    },
    {
      "cell_type": "code",
      "source": [
        "print(str.upper())\n",
        "print(str.lower())\n",
        "print(str.capitalize())\n",
        "print(str.replace(\"a\",\"A\"))\n",
        "print(str.split('a'))\n",
        "print(\"sar\" in str)"
      ],
      "metadata": {
        "colab": {
          "base_uri": "https://localhost:8080/"
        },
        "id": "v4iKZaQX8CdS",
        "outputId": "6460154a-43ed-42f9-9aaa-c31bb4af9980"
      },
      "execution_count": 15,
      "outputs": [
        {
          "output_type": "stream",
          "name": "stdout",
          "text": [
            "IQRA SARWARM012IQRA SARWARM012IQRA SARWARM012IQRA SARWARM012IQRA SARWARM012\n",
            "iqra sarwarm012iqra sarwarm012iqra sarwarm012iqra sarwarm012iqra sarwarm012\n",
            "Iqra sarwarm012iqra sarwarm012iqra sarwarm012iqra sarwarm012iqra sarwarm012\n",
            "iqrA sArwArm012iqrA sArwArm012iqrA sArwArm012iqrA sArwArm012iqrA sArwArm012\n",
            "['iqr', ' s', 'rw', 'rm012iqr', ' s', 'rw', 'rm012iqr', ' s', 'rw', 'rm012iqr', ' s', 'rw', 'rm012iqr', ' s', 'rw', 'rm012']\n",
            "True\n"
          ]
        }
      ]
    },
    {
      "cell_type": "code",
      "source": [
        "acc = 90.845689\n",
        "txt = \"testing accuracy: {:.2f}% and {}\"\n",
        "print(txt.format(acc,acc+20)) # combine text with numbers with two decimal format"
      ],
      "metadata": {
        "colab": {
          "base_uri": "https://localhost:8080/"
        },
        "id": "jwa4Ctyj8vWX",
        "outputId": "3c177cbe-eb74-4fe8-e766-69b4e2d4066d"
      },
      "execution_count": 16,
      "outputs": [
        {
          "output_type": "stream",
          "name": "stdout",
          "text": [
            "testing accuracy: 90.85% and 110.845689\n"
          ]
        }
      ]
    },
    {
      "cell_type": "code",
      "source": [
        "x = 5\n",
        "y = 2\n",
        "print(\"x+y = \",x + y) # addition\n",
        "print(\"x-y = \",x-y) # subtraction\n",
        "print(\"x*y = \",x * y) # multiplication\n",
        "print(\"x/y = \",x / y) # division\n",
        "print(\"x%y = \",x % y) # modulus\n",
        "print(\"x**y = \",x**y) # power"
      ],
      "metadata": {
        "colab": {
          "base_uri": "https://localhost:8080/"
        },
        "id": "Oc8Wq66E9VlX",
        "outputId": "59db86d6-e437-45a9-8ac0-ce60bd3e50b6"
      },
      "execution_count": 17,
      "outputs": [
        {
          "output_type": "stream",
          "name": "stdout",
          "text": [
            "x+y =  7\n",
            "x-y =  3\n",
            "x*y =  10\n",
            "x/y =  2.5\n",
            "x%y =  1\n",
            "x**y =  25\n"
          ]
        }
      ]
    },
    {
      "cell_type": "code",
      "source": [
        "x = 5\n",
        "y = 5\n",
        "print(x > 3 and x < 10)\n",
        "print(x == 5 or x < 4)\n",
        "print(not x < 3 and x < 10)"
      ],
      "metadata": {
        "colab": {
          "base_uri": "https://localhost:8080/"
        },
        "id": "aMwLxd3W9Z3q",
        "outputId": "da3e0bff-5164-42ff-8c8d-d8ae95253a92"
      },
      "execution_count": 25,
      "outputs": [
        {
          "output_type": "stream",
          "name": "stdout",
          "text": [
            "True\n",
            "True\n",
            "True\n"
          ]
        }
      ]
    },
    {
      "cell_type": "code",
      "source": [
        ""
      ],
      "metadata": {
        "id": "kIvao2Jw9g8n"
      },
      "execution_count": null,
      "outputs": []
    }
  ]
}